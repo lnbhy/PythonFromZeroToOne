{
 "cells": [
  {
   "cell_type": "markdown",
   "metadata": {},
   "source": [
    "python:从零到一 作者：羡鱼肘子"
   ]
  },
  {
   "cell_type": "markdown",
   "metadata": {},
   "source": [
    "一个简单的开始，变量和简单的数据类型"
   ]
  },
  {
   "cell_type": "code",
   "execution_count": 2,
   "metadata": {
    "scrolled": true
   },
   "outputs": [
    {
     "name": "stdout",
     "output_type": "stream",
     "text": [
      "hello_world\r\n"
     ]
    }
   ],
   "source": [
    "print('hello_world')"
   ]
  },
  {
   "cell_type": "markdown",
   "metadata": {},
   "source": [
    "1.varible"
   ]
  },
  {
   "cell_type": "code",
   "execution_count": 3,
   "metadata": {
    "scrolled": true
   },
   "outputs": [
    {
     "name": "stdout",
     "output_type": "stream",
     "text": [
      "hello_world\r\n"
     ]
    }
   ],
   "source": [
    "message='hello_world'#varible=value\n",
    "print(message)\n",
    "#变量是可以被赋值的标签"
   ]
  },
  {
   "cell_type": "markdown",
   "metadata": {},
   "source": [
    "2.string"
   ]
  },
  {
   "cell_type": "code",
   "execution_count": 4,
   "metadata": {
    "scrolled": true
   },
   "outputs": [
    {
     "name": "stdout",
     "output_type": "stream",
     "text": [
      "This Is A String\r\n",
      "THIS IS A STRING\r\n",
      "this is a string\r\n"
     ]
    }
   ],
   "source": [
    "str1='this is a string'\n",
    "str2=\"this is also a string\"\n",
    "print(str1.title())\n",
    "print(str1.upper())\n",
    "print(str1.lower())"
   ]
  },
  {
   "cell_type": "markdown",
   "metadata": {},
   "source": [
    "2.1 f string"
   ]
  },
  {
   "cell_type": "code",
   "execution_count": 5,
   "metadata": {
    "scrolled": true
   },
   "outputs": [
    {
     "name": "stdout",
     "output_type": "stream",
     "text": [
      "Li Hua\r\n",
      "Li Hua\r\n"
     ]
    }
   ],
   "source": [
    "name='Li Hua'\n",
    "print(name)\n",
    "first_name='Hua'\n",
    "last_name='Li'\n",
    "full_name=f'{last_name} {first_name}'\n",
    "print(full_name)"
   ]
  },
  {
   "cell_type": "markdown",
   "metadata": {},
   "source": [
    "3.number"
   ]
  },
  {
   "cell_type": "markdown",
   "metadata": {},
   "source": [
    "3.1 int"
   ]
  },
  {
   "cell_type": "code",
   "execution_count": 6,
   "metadata": {
    "scrolled": true
   },
   "outputs": [
    {
     "name": "stdout",
     "output_type": "stream",
     "text": [
      "11\r\n",
      "-7\r\n",
      "18\r\n",
      "0.2222222222222222\r\n",
      "0\r\n",
      "81\r\n"
     ]
    }
   ],
   "source": [
    "# + - * / ** //\n",
    "a=2\n",
    "b=9\n",
    "print(a+b)\n",
    "print(a-b)\n",
    "print(a*b)\n",
    "print(a/b)\n",
    "print(a//b)\n",
    "print(b**a)"
   ]
  },
  {
   "cell_type": "markdown",
   "metadata": {},
   "source": [
    "3.2 float"
   ]
  },
  {
   "cell_type": "code",
   "execution_count": 7,
   "metadata": {
    "scrolled": true
   },
   "outputs": [
    {
     "name": "stdout",
     "output_type": "stream",
     "text": [
      "0.30000000000000004\r\n",
      "-0.1\r\n",
      "0.020000000000000004\r\n",
      "0.5\r\n",
      "0.0\r\n",
      "0.8513399225207846\r\n"
     ]
    }
   ],
   "source": [
    "a=0.1\n",
    "b=0.2\n",
    "print(a+b)\n",
    "print(a-b)\n",
    "print(a*b)\n",
    "print(a/b)\n",
    "print(a//b)\n",
    "print(b**a)"
   ]
  },
  {
   "cell_type": "code",
   "execution_count": 8,
   "metadata": {
    "scrolled": true
   },
   "outputs": [
    {
     "name": "stdout",
     "output_type": "stream",
     "text": [
      "2.0\r\n"
     ]
    }
   ],
   "source": [
    "#任意两个数相除，结果总是浮点数\n",
    "print(4/2)"
   ]
  },
  {
   "cell_type": "code",
   "execution_count": 9,
   "metadata": {
    "scrolled": true
   },
   "outputs": [
    {
     "name": "stdout",
     "output_type": "stream",
     "text": [
      "140000000000\r\n"
     ]
    }
   ],
   "source": [
    "#大数可以有下划线,便于阅读\n",
    "num=140_000_000_000\n",
    "print(num)"
   ]
  },
  {
   "cell_type": "code",
   "execution_count": 10,
   "metadata": {
    "scrolled": true
   },
   "outputs": [
    {
     "name": "stdout",
     "output_type": "stream",
     "text": [
      "1\r\n",
      "2\r\n",
      "3\r\n"
     ]
    }
   ],
   "source": [
    "#多变量赋值,按序赋值\n",
    "x,y,z=1,2,3\n",
    "print(x)\n",
    "print(y)\n",
    "print(z)"
   ]
  },
  {
   "cell_type": "markdown",
   "metadata": {},
   "source": [
    "4. constant"
   ]
  },
  {
   "cell_type": "code",
   "execution_count": 11,
   "metadata": {
    "scrolled": true
   },
   "outputs": [
    {
     "name": "stdout",
     "output_type": "stream",
     "text": [
      "5000000000\r\n"
     ]
    }
   ],
   "source": [
    "#在程序的生命周期内保持不变的量（一般大写）\n",
    "MAX_CONSTANT=5000_000_000\n",
    "print(MAX_CONSTANT)"
   ]
  },
  {
   "cell_type": "code",
   "execution_count": 13,
   "metadata": {
    "scrolled": true
   },
   "outputs": [
    {
     "name": "stdout",
     "output_type": "stream",
     "text": [
      "The Zen of Python, by Tim Peters\r\n",
      "\r\n",
      "Beautiful is better than ugly.\r\n",
      "Explicit is better than implicit.\r\n",
      "Simple is better than complex.\r\n",
      "Complex is better than complicated.\r\n",
      "Flat is better than nested.\r\n",
      "Sparse is better than dense.\r\n",
      "Readability counts.\r\n",
      "Special cases aren't special enough to break the rules.\r\n",
      "Although practicality beats purity.\r\n",
      "Errors should never pass silently.\r\n",
      "Unless explicitly silenced.\r\n",
      "In the face of ambiguity, refuse the temptation to guess.\r\n",
      "There should be one-- and preferably only one --obvious way to do it.\r\n",
      "Although that way may not be obvious at first unless you're Dutch.\r\n",
      "Now is better than never.\r\n",
      "Although never is often better than *right* now.\r\n",
      "If the implementation is hard to explain, it's a bad idea.\r\n",
      "If the implementation is easy to explain, it may be a good idea.\r\n",
      "Namespaces are one honking great idea -- let's do more of those!\r\n"
     ]
    }
   ],
   "source": [
    "#interesting\n",
    "import this"
   ]
  },
  {
   "cell_type": "markdown",
   "metadata": {},
   "source": [
    "开始探索之旅"
   ]
  },
  {
   "cell_type": "markdown",
   "metadata": {},
   "source": [
    "1.列表"
   ]
  },
  {
   "cell_type": "code",
   "execution_count": 12,
   "metadata": {
    "scrolled": true
   },
   "outputs": [
    {
     "name": "stdout",
     "output_type": "stream",
     "text": [
      "[1, 'a', 'this is a string']\r\n"
     ]
    }
   ],
   "source": [
    "#一系列按特定顺序排列的元素\n",
    "list=[1,'a',\"this is a string\"]\n",
    "print(list)"
   ]
  },
  {
   "cell_type": "code",
   "execution_count": 13,
   "metadata": {
    "scrolled": true
   },
   "outputs": [
    {
     "name": "stdout",
     "output_type": "stream",
     "text": [
      "1\r\n",
      "this is a string\r\n"
     ]
    }
   ],
   "source": [
    "#访问列表元素(正向索引从0,1,2...，负向索引从-1，-2，-3...)\n",
    "print(list[0])\n",
    "print(list[-1])"
   ]
  },
  {
   "cell_type": "code",
   "execution_count": 28,
   "metadata": {
    "scrolled": true
   },
   "outputs": [
    {
     "name": "stdout",
     "output_type": "stream",
     "text": [
      "[1, 'a', 'this is a string']\r\n",
      "['LiLi', 'a', 'this is a string']\r\n",
      "\r\n",
      "[1, 'a', 'this is a string']\r\n",
      "['hellow', 1, 'a', 'this is a string', 2]\r\n",
      "\r\n",
      "[1, 'a', 'this is a string']\r\n",
      "[1, 'a', 'this is a string']\r\n",
      "[]\r\n"
     ]
    }
   ],
   "source": [
    "#增，删，改\n",
    "list=[1,'a',\"this is a string\"]\n",
    "list_modify=[1,'a',\"this is a string\"]\n",
    "list_modify[0]='LiLi'\n",
    "print(list)\n",
    "print(list_modify)\n",
    "print()\n",
    "list_add=[1,'a',\"this is a string\"]\n",
    "list_add.append(2)\n",
    "list_add.insert(0,'hellow')\n",
    "print(list)\n",
    "print(list_add)\n",
    "print()\n",
    "list_delete=[1,'a',\"this is a string\"]\n",
    "del list_delete[0]\n",
    "list_delete.pop()\n",
    "list_delete.pop(0)\n",
    "# list_delete.remove('LiLi')#删除第一个匹配的元素LiLi\n",
    "print(list)\n",
    "print(list_delete)"
   ]
  },
  {
   "cell_type": "code",
   "execution_count": 35,
   "metadata": {
    "scrolled": true
   },
   "outputs": [
    {
     "name": "stdout",
     "output_type": "stream",
     "text": [
      "----sort()----\r\n",
      "[1, 2, 3]\r\n",
      "[3, 2, 1]\r\n",
      "----sorted()----\r\n",
      "[3, 1, 2]\r\n",
      "[1, 2, 3]\r\n",
      "[3, 2, 1]\r\n",
      "----反向打印列表----\r\n",
      "[2, 1, 3]\r\n",
      "----确定列表长度----\r\n",
      "the length of list5 is 3\r\n"
     ]
    }
   ],
   "source": [
    "#列表管理\n",
    "#sort() vs sorted()\n",
    "#sort()是原地排序不保留原来的顺序，sorted()返回新列表，保留原来的顺序\n",
    "print(\"----sort()----\")\n",
    "list1 = [3, 1, 2]\n",
    "list1.sort()#原地排序，不返回新列表，递增排序\n",
    "print(list1)\n",
    "list1.sort(reverse=True)#递减排序\n",
    "print(list1)\n",
    "print(\"----sorted()----\")\n",
    "list2 = [3, 1, 2]\n",
    "list3 = sorted(list2)#返回新列表，递增排序\n",
    "list4=sorted(list2,reverse=True)#返回新列表，递减排序\n",
    "print(list2)\n",
    "print(list3)\n",
    "print(list4)\n",
    "\n",
    "#反向打印列表\n",
    "print(\"----反向打印列表----\")\n",
    "list5 = [3, 1, 2]\n",
    "list5.reverse()#仅仅根据源列表顺序反向打印,不返回新列表\n",
    "print(list5)\n",
    "\n",
    "#确定列表长度\n",
    "print('----确定列表长度----')\n",
    "print(f'the length of list5 is {len(list5)}')"
   ]
  },
  {
   "cell_type": "code",
   "execution_count": 7,
   "metadata": {
    "scrolled": true
   },
   "outputs": [
    {
     "name": "stdout",
     "output_type": "stream",
     "text": [
      "遍历列表\r\n",
      "1\r\n",
      "2\r\n",
      "3\r\n",
      "4\r\n",
      "5\r\n"
     ]
    }
   ],
   "source": [
    "#列表操作\n",
    "#遍历\n",
    "print(\"遍历列表\")\n",
    "nums=[1,2,3,4,5]\n",
    "for num in nums:\n",
    "    print(num)"
   ]
  },
  {
   "cell_type": "code",
   "execution_count": 9,
   "metadata": {
    "scrolled": true
   },
   "outputs": [
    {
     "name": "stdout",
     "output_type": "stream",
     "text": [
      "创建数值列表\r\n",
      "[1, 3, 5, 7, 9]\r\n",
      "[1, 9, 25, 49, 81]\r\n"
     ]
    }
   ],
   "source": [
    "#创建数值列表\n",
    "#range(start,stop,step)\n",
    "print(\"创建数值列表\")\n",
    "nums=list(range(1,10,2))#创建1到9的奇数列表\n",
    "print(nums)\n",
    "squares=[]\n",
    "for num in range(1,10,2):\n",
    "    num_square=num**2\n",
    "    squares.append(num_square)#创建平方数列表\n",
    "print(squares)"
   ]
  },
  {
   "cell_type": "code",
   "execution_count": 13,
   "metadata": {
    "scrolled": true
   },
   "outputs": [
    {
     "name": "stdout",
     "output_type": "stream",
     "text": [
      "[1, 3, 5, 7, 9]\r\n",
      "9\r\n",
      "1\r\n",
      "25\r\n"
     ]
    }
   ],
   "source": [
    "#数值列统计计算\n",
    "nums=list(range(1,10,2))\n",
    "print(nums)\n",
    "print(max(nums))\n",
    "print(min(nums))\n",
    "print(sum(nums))"
   ]
  },
  {
   "cell_type": "code",
   "execution_count": 14,
   "metadata": {
    "scrolled": true
   },
   "outputs": [
    {
     "name": "stdout",
     "output_type": "stream",
     "text": [
      "[1, 9, 25, 49, 81]\r\n"
     ]
    }
   ],
   "source": [
    "#列表推导式\n",
    "nums=[value**2 for value in range(1,10,2)]\n",
    "print(nums)"
   ]
  },
  {
   "cell_type": "code",
   "execution_count": 5,
   "metadata": {
    "scrolled": true
   },
   "outputs": [
    {
     "name": "stdout",
     "output_type": "stream",
     "text": [
      "[0, 1, 2, 3, 4, 5, 6, 7, 8, 9]\r\n",
      "[2, 3, 4]\r\n",
      "[2, 3, 4, 5, 6, 7, 8, 9]\r\n",
      "[0, 1, 2, 3, 4]\r\n",
      "[7, 8, 9]\r\n"
     ]
    }
   ],
   "source": [
    "#列表切片\n",
    "list1=list(range(10))\n",
    "print(list1)\n",
    "print(list1[2:5])\n",
    "print(list1[2:]) \n",
    "print(list1[:5])\n",
    "print(list1[-3:])"
   ]
  },
  {
   "cell_type": "code",
   "execution_count": 8,
   "metadata": {
    "scrolled": true
   },
   "outputs": [
    {
     "name": "stdout",
     "output_type": "stream",
     "text": [
      "[2, 3, 4]\r\n",
      "2\r\n",
      "3\r\n",
      "4\r\n"
     ]
    }
   ],
   "source": [
    "#遍历切片\n",
    "nums=list(range(10))\n",
    "print(nums[2:5])\n",
    "for num in nums[2:5]:\n",
    "    print(num)"
   ]
  },
  {
   "cell_type": "code",
   "execution_count": 1,
   "metadata": {
    "scrolled": true
   },
   "outputs": [
    {
     "name": "stdout",
     "output_type": "stream",
     "text": [
      "[0, 1, 2, 3, 4, 5, 6, 7, 8, 9]\r\n",
      "[0, 1, 2, 3, 4, 5, 6, 7, 8, 9]\r\n",
      "修改list后的结果：\r\n",
      "[0, 1, 2, 3, 4, 5, 6, 7, 8, 9, 10]\r\n",
      "[0, 1, 2, 3, 4, 5, 6, 7, 8, 9]\r\n"
     ]
    }
   ],
   "source": [
    "#复制列表\n",
    "listx=list(range(10))\n",
    "#对比list1和list2\n",
    "list1=listx#将list1关联到listx关联的列表，指向同一对象。\n",
    "list2=listx[:]#将listx的副本赋给list2。\n",
    "print(list1)\n",
    "print(list2)\n",
    "#修改listx,观察到list1和list2的输出结果是不一样的。\n",
    "print('修改listx后,list1和list2的结果：')\n",
    "listx.append(10)\n",
    "print(list1)\n",
    "print(list2)"
   ]
  },
  {
   "cell_type": "markdown",
   "metadata": {},
   "source": [
    "2.元组"
   ]
  },
  {
   "cell_type": "code",
   "execution_count": 4,
   "metadata": {
    "scrolled": true
   },
   "outputs": [
    {
     "name": "stdout",
     "output_type": "stream",
     "text": [
      "1\r\n",
      "2\r\n",
      "(1, 2)\r\n",
      "(1, 2)\r\n"
     ]
    }
   ],
   "source": [
    "#定义元组,\n",
    "point=(1,2)\n",
    "print(point[0])\n",
    "print(point[1])\n",
    "print(point)\n",
    "#严格来说元组是由逗号来定义的不是括号\n",
    "point1=1,2\n",
    "print(point1)"
   ]
  },
  {
   "cell_type": "code",
   "execution_count": 5,
   "metadata": {
    "scrolled": true
   },
   "outputs": [
    {
     "ename": "TypeError",
     "evalue": "'tuple' object does not support item assignment",
     "output_type": "error",
     "traceback": [
      "\u001b[0;31m---------------------------------------------------------------------------\u001b[0m",
      "\u001b[0;31mTypeError\u001b[0m                                 Traceback (most recent call last)",
      "Cell \u001b[0;32mIn[5], line 3\u001b[0m\n\u001b[1;32m      1\u001b[0m \u001b[39m#元组元素不可修改\u001b[39;00m\n\u001b[1;32m      2\u001b[0m point\u001b[39m=\u001b[39m(\u001b[39m1\u001b[39m,\u001b[39m2\u001b[39m)\n\u001b[0;32m----> 3\u001b[0m point[\u001b[39m0\u001b[39;49m]\u001b[39m=\u001b[39m\u001b[39m2\u001b[39m\n\u001b[1;32m      4\u001b[0m \u001b[39mprint\u001b[39m(point)\n",
      "\u001b[0;31mTypeError\u001b[0m: 'tuple' object does not support item assignment"
     ]
    }
   ],
   "source": [
    "#元组元素不可修改(TypeError: 'tuple' object does not support item assignment)\n",
    "point=(1,2)\n",
    "point[0]=2\n",
    "print(point)"
   ]
  },
  {
   "cell_type": "code",
   "execution_count": 8,
   "metadata": {
    "scrolled": true
   },
   "outputs": [
    {
     "name": "stdout",
     "output_type": "stream",
     "text": [
      "(1, 2)\r\n",
      "(3, 4)\r\n",
      "(5, 6)\r\n",
      "修改元组变量结果：\r\n",
      "(1, 2)\r\n",
      "(3, 4)\r\n"
     ]
    }
   ],
   "source": [
    " #遍历元组\n",
    "points=((1,2),(3,4),(5,6))\n",
    "for point in points:\n",
    "    print(point)\n",
    "#修改元组变量\n",
    "print(\"修改元组变量结果：\")\n",
    "points=((1,2),(3,4))\n",
    "for point in points:\n",
    "    print(point)"
   ]
  },
  {
   "cell_type": "markdown",
   "metadata": {},
   "source": [
    "if 语句"
   ]
  },
  {
   "cell_type": "code",
   "execution_count": 9,
   "metadata": {
    "scrolled": true
   },
   "outputs": [
    {
     "name": "stdout",
     "output_type": "stream",
     "text": [
      "True\r\n",
      "False\r\n",
      "False\r\n",
      "False\r\n",
      "True\r\n",
      "True\r\n"
     ]
    }
   ],
   "source": [
    "#本质条件测试，为true执行语句，为false不执行语句 ==  != < > <= >=\n",
    "num=10\n",
    "print(num==10)\n",
    "print(num!=10)\n",
    "print(num<10)\n",
    "print(num>10)\n",
    "print(num<=10)\n",
    "print(num>=10)"
   ]
  },
  {
   "cell_type": "code",
   "execution_count": 12,
   "metadata": {
    "scrolled": true
   },
   "outputs": [
    {
     "name": "stdout",
     "output_type": "stream",
     "text": [
      "num不介于10和20之间\r\n"
     ]
    }
   ],
   "source": [
    " #and与 or或 not非 逻辑运算符\n",
    "num1=10\n",
    "num2=20\n",
    "num=int(input(\"请输入一个数字：\"))\n",
    "if(num>num1 and num<num2):\n",
    "    print(\"num介于10和20之间\")\n",
    "if(num<num1 or num>num2):\n",
    "    print(\"num不介于10和20之间\")\n",
    "if(not num>num1):\n",
    "    print(\"num不大于10\")"
   ]
  },
  {
   "cell_type": "code",
   "execution_count": 14,
   "metadata": {
    "scrolled": true
   },
   "outputs": [
    {
     "name": "stdout",
     "output_type": "stream",
     "text": [
      "[0, 1, 2, 3, 4, 5, 6, 7, 8, 9]\r\n",
      "9在nums列表中\r\n",
      "12不在nums列表中\r\n"
     ]
    }
   ],
   "source": [
    "#检查值是否在列表中 in not in \n",
    "nums=list(range(10))\n",
    "print(nums)\n",
    "if 9 in nums:\n",
    "    print(\"9在nums列表中\")\n",
    "if 12 not in nums:\n",
    "    print(\"12不在nums列表中\")"
   ]
  },
  {
   "cell_type": "code",
   "execution_count": 18,
   "metadata": {
    "scrolled": true
   },
   "outputs": [
    {
     "name": "stdout",
     "output_type": "stream",
     "text": [
      "游戏开始\r\n",
      "游戏结束\r\n"
     ]
    }
   ],
   "source": [
    "#布尔表达式\n",
    "ACTION=True\n",
    "END=False\n",
    "if(ACTION):\n",
    "    print(\"游戏开始\")\n",
    "if (not END):\n",
    "    print(\"游戏结束\")"
   ]
  },
  {
   "cell_type": "code",
   "execution_count": 20,
   "metadata": {
    "scrolled": true
   },
   "outputs": [
    {
     "name": "stdout",
     "output_type": "stream",
     "text": [
      "num>5\r\n",
      "num>5\r\n",
      "num>5\r\n"
     ]
    }
   ],
   "source": [
    "#if 语句类型\n",
    "num=10\n",
    "if(num>5):\n",
    "    print(\"num>5\")\n",
    "\n",
    "#一下两种适合于只有一种情况合适的场景\n",
    "if(num>5):\n",
    "    print(\"num>5\")\n",
    "else:\n",
    "    print(\"num<=5\")\n",
    "\n",
    "if(num>5):\n",
    "    print(\"num>5\")\n",
    "elif(num==5):\n",
    "    print(\"num==5\")\n",
    "else:\n",
    "    print(\"num<5\")"
   ]
  },
  {
   "cell_type": "code",
   "execution_count": 23,
   "metadata": {
    "scrolled": true
   },
   "outputs": [
    {
     "name": "stdout",
     "output_type": "stream",
     "text": [
      "超出范围\r\n",
      "1\r\n",
      "2\r\n",
      "3\r\n",
      "4\r\n",
      "5\r\n",
      "6\r\n",
      "7\r\n",
      "8\r\n",
      "9\r\n",
      "10\r\n",
      "超出范围\r\n",
      "超出范围\r\n",
      "超出范围\r\n",
      "超出范围\r\n",
      "列表为空\r\n"
     ]
    }
   ],
   "source": [
    "#if语句+列表\n",
    "#输出1-10\n",
    "nums=list(range(0,15))\n",
    "for num in nums:\n",
    "    if num<=10 and num>0:\n",
    "        print(num)\n",
    "    else:\n",
    "        print(\"超出范围\")\n",
    "#确定列表是否为空\n",
    "nums=[]\n",
    "if nums:\n",
    " for num in nums:\n",
    "    if num<=10 and num>0:\n",
    "        print(num)\n",
    "    else:\n",
    "        print(\"超出范围\")\n",
    "else:\n",
    "    print(\"列表为空\")\n",
    "    "
   ]
  },
  {
   "cell_type": "markdown",
   "metadata": {},
   "source": [
    "3.字典"
   ]
  },
  {
   "cell_type": "code",
   "execution_count": 25,
   "metadata": {
    "scrolled": true
   },
   "outputs": [
    {
     "name": "stdout",
     "output_type": "stream",
     "text": [
      "羡鱼肘子\r\n",
      "98.5\r\n"
     ]
    }
   ],
   "source": [
    "#简单的字典示例\n",
    "student={'name':\"羡鱼肘子\",'age':18,'sex':'男','score':98.5}\n",
    "print(student['name'])\n",
    "print(student['score'])"
   ]
  },
  {
   "cell_type": "code",
   "execution_count": 33,
   "metadata": {
    "scrolled": true
   },
   "outputs": [
    {
     "name": "stdout",
     "output_type": "stream",
     "text": [
      "羡鱼肘子\r\n",
      "无此项数据\r\n",
      "{'name': '羡鱼肘子', 'age': 18, 'sex': '男', 'score': 98.5, 'height': 180}\r\n",
      "{'name': '羡鱼肘子', 'age': 18, 'sex': '男', 'score': 99.5, 'height': 180}\r\n",
      "{'name': '羡鱼肘子', 'score': 99.5, 'height': 180}\r\n"
     ]
    }
   ],
   "source": [
    "#如何使用字典？字典本质：键值对集合,注意3.7后是有序的。\n",
    "#访问字典值 通过[键]来访问与之关联的字典值。\n",
    "student={'name':\"羡鱼肘子\",'age':18,'sex':'男','score':98.5}\n",
    "print(student['name'])\n",
    "#问题：如果访问不存在的键，则会报错 ,可以使用get方法来避免报错\n",
    "# print(student['height'])  #报错KeyError: 'height'\n",
    "height=student.get('height','无此项数据')\n",
    "print(height)\n",
    "\n",
    "#添加字典值 直接通过键来添加新的变量\n",
    "student['height']=180\n",
    "print(student)\n",
    "#修改字典值 直接通过键来修改变量\n",
    "student['score']=99.5\n",
    "print(student)\n",
    "#删除字典值 通过键来删除与之关联的变量\n",
    "del student['sex']\n",
    "student.pop('age')\n",
    "print(student)"
   ]
  },
  {
   "cell_type": "code",
   "execution_count": 41,
   "metadata": {
    "scrolled": true
   },
   "outputs": [
    {
     "name": "stdout",
     "output_type": "stream",
     "text": [
      "name 羡鱼肘子\r\n",
      "age 18\r\n",
      "sex 男\r\n",
      "score 98.5\r\n",
      "dict_items([('name', '羡鱼肘子'), ('age', 18), ('sex', '男'), ('score', 98.5)])\r\n",
      "键：\r\n",
      "name\r\n",
      "age\r\n",
      "sex\r\n",
      "score\r\n",
      "值：\r\n",
      "羡鱼肘子\r\n",
      "18\r\n",
      "男\r\n",
      "98.5\r\n"
     ]
    }
   ],
   "source": [
    "#遍历字典 键和值\n",
    "student={'name':\"羡鱼肘子\",'age':18,'sex':'男','score':98.5}\n",
    "for key,value in student.items():\n",
    "    print(key,value)\n",
    "#解释：items()方法返回一个字典的视图对象，该对象包含字典中的键值对。\n",
    "m_items=student.items()\n",
    "print(m_items)\n",
    "#键\n",
    "print(\"键：\")\n",
    "for key in student.keys():\n",
    "    print(key)\n",
    "#值\n",
    "print(\"值：\")\n",
    "for value in student.values():\n",
    "    print(value)"
   ]
  },
  {
   "cell_type": "code",
   "execution_count": 42,
   "metadata": {
    "scrolled": true
   },
   "outputs": [
    {
     "name": "stdout",
     "output_type": "stream",
     "text": [
      "通信工程\r\n",
      "计算机科学\r\n"
     ]
    }
   ],
   "source": [
    "#问题：如果字典的遍历值的话有重复的，那么如何处理？--集合 set()\n",
    "courses={\n",
    "    \"羡鱼肘子\":'计算机科学',\n",
    "    \"鱼鱼\":'通信工程',\n",
    "    '肘肘':'计算机科学'\n",
    "    }\n",
    "#想知道有哪几门学科\n",
    "for course in set(courses.values()):\n",
    "    print(course)"
   ]
  },
  {
   "cell_type": "code",
   "execution_count": 39,
   "metadata": {
    "scrolled": true
   },
   "outputs": [
    {
     "name": "stdout",
     "output_type": "stream",
     "text": [
      "age 18\r\n",
      "name 羡鱼肘子\r\n",
      "score 98.5\r\n",
      "sex 男\r\n"
     ]
    }
   ],
   "source": [
    "#按某种顺序读取字典值 sorted()\n",
    "student={'name':\"羡鱼肘子\",'age':18,'sex':'男','score':98.5}#按key中字母顺序排序\n",
    "for key in sorted(student):\n",
    "    print(key,student[key])\n"
   ]
  },
  {
   "cell_type": "markdown",
   "metadata": {},
   "source": [
    "4.嵌套"
   ]
  },
  {
   "cell_type": "code",
   "execution_count": 43,
   "metadata": {
    "scrolled": true
   },
   "outputs": [
    {
     "name": "stdout",
     "output_type": "stream",
     "text": [
      "{'name': 'John', 'age': 25, 'position': 'Goalkeeper'}\r\n",
      "{'name': 'Mike', 'age': 28, 'position': 'Defender'}\r\n",
      "{'name': 'Tom', 'age': 22, 'position': 'Midfielder'}\r\n"
     ]
    }
   ],
   "source": [
    "#字典列表\n",
    "#问题：如何存储一个足球队的球员信息，其中包括姓名、年龄和位置？\n",
    "player1 = {'name': 'John', 'age': 25, 'position': 'Goalkeeper'}\n",
    "player2 = {'name': 'Mike', 'age': 28, 'position': 'Defender'}\n",
    "player3 = {'name': 'Tom', 'age': 22, 'position': 'Midfielder'}\n",
    "team = [player1, player2, player3]\n",
    "for player in team:\n",
    "    print(player)"
   ]
  },
  {
   "cell_type": "code",
   "execution_count": 1,
   "metadata": {
    "scrolled": true
   },
   "outputs": [
    {
     "name": "stdout",
     "output_type": "stream",
     "text": [
      "肘子\r\n",
      "鱼香肉丝\r\n"
     ]
    }
   ],
   "source": [
    "#在字典中存储列表\n",
    "#问题：如何描述一个外卖订单\n",
    "order = {\n",
    "    \"phone_number\": \"1234567890\",\n",
    "    'name': '羡鱼肘子',\n",
    "    'items': ['肘子', '鱼香肉丝'],\n",
    "    \"price\": 120.5,\n",
    "    }\n",
    "#问题：如何输出菜品\n",
    "for item in order['items']:\n",
    "    print(item)\n"
   ]
  },
  {
   "cell_type": "code",
   "execution_count": 3,
   "metadata": {
    "scrolled": true
   },
   "outputs": [
    {
     "name": "stdout",
     "output_type": "stream",
     "text": [
      "{'qq_number': 3063320431, 'qq_name': '羡鱼肘子', 'qq_age': 18, 'qq_sex': '男'}\r\n",
      "qq_number\r\n",
      "qq_name\r\n",
      "qq_age\r\n",
      "qq_sex\r\n",
      "{'qq_number': 3063320431, 'qq_name': '鱼鱼', 'qq_age': 18, 'qq_sex': '女'}\r\n",
      "qq_number\r\n",
      "qq_name\r\n",
      "qq_age\r\n",
      "qq_sex\r\n",
      "{'qq_number': 3063320431, 'qq_name': '鱼仔', 'qq_age': 18, 'qq_sex': '男'}\r\n",
      "qq_number\r\n",
      "qq_name\r\n",
      "qq_age\r\n",
      "qq_sex\r\n"
     ]
    }
   ],
   "source": [
    "#在字典中存储字典\n",
    "#问题：qq是如何描述用户的呢？\n",
    "qq_users={\n",
    "    '羡鱼肘子':{'qq_number':3063320431,'qq_name':'羡鱼肘子','qq_age':18,'qq_sex':'男'},\n",
    "    '鱼鱼':{'qq_number':3063320431,'qq_name':'鱼鱼','qq_age':18,'qq_sex':'女'},\n",
    "    '仔仔':{'qq_number':3063320431,'qq_name':'鱼仔','qq_age':18,'qq_sex':'男'},\n",
    "}\n",
    "for qq_user in qq_users:\n",
    "    print(qq_users[qq_user])\n",
    "    for key in qq_users[qq_user]:\n",
    "        print(key)"
   ]
  },
  {
   "cell_type": "markdown",
   "metadata": {},
   "source": [
    "5.用户输入和while"
   ]
  },
  {
   "cell_type": "code",
   "execution_count": 1,
   "metadata": {
    "scrolled": true
   },
   "outputs": [
    {
     "name": "stdout",
     "output_type": "stream",
     "text": [
      "<class 'str'>\r\n"
     ]
    }
   ],
   "source": [
    "#input（）返回字符串\n",
    "msssage=input(\"请输入信息：\")\n",
    "print(type(msssage))"
   ]
  },
  {
   "cell_type": "code",
   "execution_count": 3,
   "metadata": {
    "scrolled": true
   },
   "outputs": [
    {
     "name": "stdout",
     "output_type": "stream",
     "text": [
      "<class 'int'>\r\n"
     ]
    }
   ],
   "source": [
    "#input()获取数值输入\n",
    "num=int(input(\"请输入一个数字：\"))\n",
    "print(type(num))"
   ]
  },
  {
   "cell_type": "code",
   "execution_count": 6,
   "metadata": {
    "scrolled": true
   },
   "outputs": [
    {
     "name": "stdout",
     "output_type": "stream",
     "text": [
      "for循环：\r\n",
      "0\r\n",
      "1\r\n",
      "2\r\n",
      "3\r\n",
      "4\r\n",
      "\r\n",
      "while循环：\r\n",
      "0\r\n",
      "1\r\n",
      "2\r\n",
      "3\r\n",
      "4\r\n"
     ]
    }
   ],
   "source": [
    "#while 循环\n",
    "#问题：while循环与for循环的区别是什么？\n",
    "#for循环通常用于遍历一个序列（如列表、元组或字符串）中的每个元素，而while循环则根据条件判断是否继续执行。\n",
    "print(\"for循环：\")\n",
    "for i in range(5):\n",
    "    print(i)\n",
    "print(\"\\nwhile循环：\")\n",
    "i=0\n",
    "while i < 5:\n",
    "    print(i)\n",
    "    i += 1"
   ]
  },
  {
   "cell_type": "code",
   "execution_count": 9,
   "metadata": {
    "scrolled": true
   },
   "outputs": [
    {
     "name": "stdout",
     "output_type": "stream",
     "text": [
      "游戏继续\r\n"
     ]
    }
   ],
   "source": [
    "#问题：如何在一个游戏循环里让用户自己选择退出呢？\n",
    "message=''\n",
    "while message != \"quit\":\n",
    "    message=input(\"是否继续游戏呢？\\n输入'quit'退出游戏。\\n\")\n",
    "    if message != \"quit\":\n",
    "        print(\"游戏继续\")"
   ]
  },
  {
   "cell_type": "code",
   "execution_count": 12,
   "metadata": {
    "scrolled": true
   },
   "outputs": [
    {
     "name": "stdout",
     "output_type": "stream",
     "text": [
      "当前坦克血量90\r\n",
      "当前基地血量100\r\n",
      "当前回合数0\r\n",
      "当前坦克血量0\r\n",
      "当前基地血量0\r\n",
      "当前回合数1\r\n",
      "游戏结束！\r\n"
     ]
    }
   ],
   "source": [
    "#问题：坦克大战这个游戏中，游戏结束的条件是什么？自己的坦克被敌方坦克击毁，或者敌方的大本营被击毁。\n",
    "#如何去实现这个游戏结束的条件？\n",
    "#用标志法来实现游戏结束的条件。\n",
    "active = True\n",
    "Tank_Hp=100\n",
    "Base_Hp=100\n",
    "game_round=1\n",
    "while active:\n",
    "    Tank_Hp=int(input(\"请输入坦克血量：\"))  \n",
    "    Base_Hp=int(input(\"请输入基地血量：\"))\n",
    "    print(f'当前坦克血量{Tank_Hp}')\n",
    "    print(f'当前基地血量{Base_Hp}')\n",
    "    print(f'当前回合数{game_round}')\n",
    "    game_round += 1\n",
    "    if Tank_Hp<=0 or Base_Hp<=0:\n",
    "        active=False\n",
    "        print(\"游戏结束！\")\n"
   ]
  },
  {
   "cell_type": "code",
   "execution_count": 14,
   "metadata": {
    "scrolled": true
   },
   "outputs": [
    {
     "name": "stdout",
     "output_type": "stream",
     "text": [
      "我们来到了一个新的回合\r\n",
      "玩家退出了\r\n"
     ]
    }
   ],
   "source": [
    "#break continue\n",
    "#break 用于完全退出循环，而continue 用于跳过当前循环的剩余部分并继续下一次迭代。\n",
    "#问题：在回合制的模拟卡牌游戏中，玩家想在任意时刻立即退出而不是本回合结束后才退出，如何实现？\n",
    "QUIT=True\n",
    "while True:\n",
    "    print(\"我们来到了一个新的回合\")\n",
    "    if QUIT:\n",
    "        print(\"玩家退出了\")\n",
    "        break\n",
    "    print(\"新回合开始\")"
   ]
  },
  {
   "cell_type": "code",
   "execution_count": 3,
   "metadata": {
    "scrolled": true
   },
   "outputs": [
    {
     "name": "stdout",
     "output_type": "stream",
     "text": [
      "我方回合\r\n",
      "跳过，到对方回合开始\r\n",
      "我方回合\r\n",
      "跳过，到对方回合开始\r\n"
     ]
    }
   ],
   "source": [
    "#问题：在回合制的模拟卡牌游戏中，玩家可以选择跳过自己的回合，直到轮到对手的回合。如何实现呢？\n",
    "PASS=True\n",
    "ROUND=2\n",
    "game_round=1\n",
    "while game_round<=2:\n",
    "    print(\"我方回合\")\n",
    "    game_round+=1\n",
    "    if PASS:\n",
    "        print(\"跳过，到对方回合开始\")\n",
    "        continue"
   ]
  },
  {
   "cell_type": "code",
   "execution_count": 7,
   "metadata": {
    "scrolled": true
   },
   "outputs": [
    {
     "name": "stdout",
     "output_type": "stream",
     "text": [
      "验证客户： 鱼鱼\r\n",
      "验证客户： 羡鱼肘子\r\n",
      "原始客户名单： []\r\n",
      "有效客户名单： [{'name': '鱼鱼', 'phone': '13900139000'}, {'name': '羡鱼肘子', 'phone': '13800138000'}]\r\n"
     ]
    }
   ],
   "source": [
    "#while循环处理列表和字典\n",
    "#问题：某公司有一份原始客户名单，其中包括客户的姓名和联系方式，现在需要验证每位客户的联系方式是否有效并移动到有效客户名单上。\n",
    "customers= [{'name': '羡鱼肘子', 'phone': '13800138000'},\n",
    "        {'name': '鱼鱼', 'phone': '13900139000'}]\n",
    "valid_customers = []\n",
    "while customers:\n",
    "    customer=customers.pop()\n",
    "    print('验证客户：',customer['name'])\n",
    "    valid_customers.append(customer)\n",
    "print('原始客户名单：',customers)\n",
    "print('有效客户名单：',valid_customers)"
   ]
  },
  {
   "cell_type": "code",
   "execution_count": 8,
   "metadata": {
    "scrolled": true
   },
   "outputs": [
    {
     "name": "stdout",
     "output_type": "stream",
     "text": [
      "[1, 2, 3, 4, 5, 6, 7, 8, 10, 3, 6, 5]\r\n"
     ]
    }
   ],
   "source": [
    "#问题：有一个数字游戏，在一系列数字删除所有的数字9？\n",
    "numbers = [1, 2, 3, 4, 5, 6, 7, 8, 9,10,9,3,9,6,5,9]\n",
    "while 9 in numbers:\n",
    "    numbers.remove(9)\n",
    "print(numbers)"
   ]
  },
  {
   "cell_type": "markdown",
   "metadata": {},
   "source": [
    "5.函数  和积木类似的有趣的东西，但是更灵活。"
   ]
  },
  {
   "cell_type": "code",
   "execution_count": 10,
   "metadata": {
    "scrolled": true
   },
   "outputs": [
    {
     "name": "stdout",
     "output_type": "stream",
     "text": [
      "你好, 鱼鱼\r\n"
     ]
    }
   ],
   "source": [
    "#如何定义函数\n",
    "def greeting(name):\n",
    "    ''' 定义一个打招呼的函数 '''#这是一个良好的习惯\n",
    "    print('你好, ' + name)\n",
    "# 调用函数\n",
    "greeting('鱼鱼')"
   ]
  },
  {
   "cell_type": "code",
   "execution_count": null,
   "metadata": {
    "scrolled": true
   },
   "outputs": [],
   "source": [
    "#实参和形参\n",
    "def greeting(name):\n",
    "    print('你好, ' + name)\n",
    "greeting(\"鱼鱼\")\n",
    "#name是形参,\"鱼鱼\"是实参,为了便于理解（简单看为name=\"鱼鱼\"）"
   ]
  },
  {
   "cell_type": "code",
   "execution_count": 4,
   "metadata": {
    "scrolled": true
   },
   "outputs": [
    {
     "name": "stdout",
     "output_type": "stream",
     "text": [
      "早上好！鱼鱼\r\n",
      "晚上好！鱼鱼\r\n",
      "中午好！鱼鱼\r\n"
     ]
    }
   ],
   "source": [
    "#传递实参\n",
    "#位置实参  实参的顺序要和形参的顺序一致\n",
    "def greeting(name,msg):\n",
    "    ''' 定义一个可以自定义招呼语的打招呼的函数 '''\n",
    "    print(f\"{msg}{name}\")\n",
    "greeting('鱼鱼','早上好！')\n",
    "#关键字实参  可以不按照顺序传递\n",
    "greeting(name='鱼鱼',msg='晚上好！')\n",
    "#默认参数\n",
    "def greeting(name,msg='中午好！'):\n",
    "    ''' 定义一个带默认值且可以自定义招呼语的打招呼的函数 '''\n",
    "    print(f\"{msg}{name}\")\n",
    "greeting('鱼鱼')\n"
   ]
  },
  {
   "cell_type": "code",
   "execution_count": 7,
   "metadata": {
    "scrolled": true
   },
   "outputs": [
    {
     "name": "stdout",
     "output_type": "stream",
     "text": [
      "鱼鱼，我一直在想，世界上有那么多的人,而我却偏偏遇到了你。这或许就是命运最好的安排。每次看到你，我的心里就像洒满了阳光，温暖而明亮。我喜欢和你在一起的每一刻，喜欢听你的声音，喜欢看你笑的样子。\r\n"
     ]
    }
   ],
   "source": [
    "#返回简单值\n",
    "def confess__love(crush):\n",
    "    '''定义一个表白函数，crush是喜欢的人的名字，返回一句表白的话'''\n",
    "    msg=f\"{crush}，我一直在想，世界上有那么多的人,而我却偏偏遇到了你。这或许就是命运最好的安排。每次看到你，我的心里就像洒满了阳光，温暖而明亮。我喜欢和你在一起的每一刻，喜欢听你的声音，喜欢看你笑的样子。\"\n",
    "    return msg\n",
    "msg=confess__love(\"鱼鱼\")\n",
    "print(msg)"
   ]
  },
  {
   "cell_type": "code",
   "execution_count": 11,
   "metadata": {
    "scrolled": true
   },
   "outputs": [
    {
     "name": "stdout",
     "output_type": "stream",
     "text": [
      "{'name': '鱼鱼', 'age': 20, 'height': 160, 'brief_discribtion': '鱼鱼可爱又美丽，大方又优雅'}\r\n"
     ]
    }
   ],
   "source": [
    "#返回字典值\n",
    "def my_girl(crush):\n",
    "    '''定义一个爱人信息的函数，传入名字，返回字典信息'''\n",
    "    crush={'name':crush,'age':20,'height':160,'brief_discribtion':'鱼鱼可爱又美丽，大方又优雅'}\n",
    "    return crush\n",
    "crush=my_girl('鱼鱼')\n",
    "print(crush)"
   ]
  },
  {
   "cell_type": "code",
   "execution_count": 4,
   "metadata": {
    "scrolled": true
   },
   "outputs": [
    {
     "name": "stdout",
     "output_type": "stream",
     "text": [
      "原始列表：\r\n",
      "['40米大刀', '盾牌', '弓箭', '红太狼的平底锅']\r\n",
      "修改后的装备栏：\r\n",
      "['40米大刀', '大刀', '弓箭', '红太狼的平底锅']\r\n",
      "装备栏副本：\r\n",
      "['40米大刀', '大刀', '弓箭', '红太狼的平底锅']\r\n"
     ]
    }
   ],
   "source": [
    "#传递列表\n",
    "#问题：如何实现一个游戏的装备栏，可以修改装备?\n",
    "equipments=['40米大刀','盾牌','弓箭','红太狼的平底锅']\n",
    "def modify_equipment(equipments):\n",
    "    equipment=input('请输入你想要修改的装备：')\n",
    "    \n",
    "    count=0\n",
    "    while equipment  in equipments:\n",
    "        if equipments[count]==equipment:\n",
    "            equipments[count]=input('请输入你想要修改的装备：')\n",
    "        count+=1    \n",
    "    return equipments\n",
    "#这两种方式是不一样的哦\n",
    "print('原始列表：')\n",
    "print(equipments)\n",
    "modify_equipment(equipments)\n",
    "print('修改后的装备栏：')\n",
    "print(equipments)\n",
    "modify_equipment(equipments[:])\n",
    "print('装备栏副本：')\n",
    "print(equipments)\n"
   ]
  },
  {
   "cell_type": "code",
   "execution_count": 17,
   "metadata": {
    "scrolled": true
   },
   "outputs": [
    {
     "name": "stdout",
     "output_type": "stream",
     "text": [
      "Lucky number: 1\r\n",
      "Lucky number: 2\r\n",
      "Lucky number: 3\r\n",
      "Lucky number: 4\r\n",
      "Lucky number: 5\r\n",
      "(1, 2, 3, 4, 5)\r\n",
      "<class 'tuple'>\r\n",
      "{'鱼鱼': 6, '肘子': 8, '羡鱼肘子': 8}\r\n",
      "<class 'dict'>\r\n",
      "羡鱼肘子's lucky numbers are: \r\n",
      "1\t\r\n",
      "2\t\r\n",
      "3\t\r\n",
      "4\t\r\n",
      "5\t\r\n",
      "(1, 2, 3, 4, 5)\r\n"
     ]
    }
   ],
   "source": [
    "#传递任意数量的实参 *args 是元组类型，最后\n",
    "#幸运数字游戏\n",
    "def lucky_numbers(*args):\n",
    "    '''幸运数字游戏，返回任意数量的幸运数字'''\n",
    "    for number in args:\n",
    "        print(f\"Lucky number: {number}\")\n",
    "    return args\n",
    "args=lucky_numbers(1,2,3,4,5)\n",
    "print(args)\n",
    "print(type(args))\n",
    "#使用任意数量的关键字实参 **kwargs 是字典类型，最后\n",
    "#如果想把学生和他的幸运数字联系起来，如何做？\n",
    "def stu_lucky_numbers(stu,num,**kwargs):\n",
    "    '''幸运数字游戏，返回所有学生和他的幸运数字'''\n",
    "    kwargs[stu]=num\n",
    "    return kwargs\n",
    "kwargs=stu_lucky_numbers('羡鱼肘子',8,鱼鱼=6,肘子=8)\n",
    "print(kwargs)\n",
    "print(type(kwargs))\n",
    "#位置实参结合任意数量的实参\n",
    "#一个人有几个幸运数字，如何做？\n",
    "def person_lucky_numbers(name,*args,):\n",
    "    '''幸运数字游戏，返回一个人和他的幸运数字'''\n",
    "    print(f\"{name}'s lucky numbers are: \")\n",
    "    for number in args:\n",
    "        print(f\"{number}\")\n",
    "    return args\n",
    "person_lucky_number=person_lucky_numbers('羡鱼肘子',1,2,3,4,5)\n",
    "print(person_lucky_number)"
   ]
  },
  {
   "cell_type": "code",
   "execution_count": null,
   "metadata": {
    "scrolled": true
   },
   "outputs": [],
   "source": [
    "#函数 模块\n",
    "#import 模块名 导入模块\n",
    "#from 模块名 import 函数  导入模块中的函数\n",
    "#from 模块名 import *  导入模块中的所有函数"
   ]
  },
  {
   "cell_type": "markdown",
   "metadata": {},
   "source": [
    "很棒！我们的旅途已经过了十分之一啦！感觉如何？是不是so easy？接下来，我们继续前进！"
   ]
  },
  {
   "cell_type": "markdown",
   "metadata": {},
   "source": [
    "OOP(object-oriented programming)面向对象编程               "
   ]
  },
  {
   "cell_type": "markdown",
   "metadata": {},
   "source": [
    "1.类、对象、实例"
   ]
  },
  {
   "cell_type": "code",
   "execution_count": null,
   "metadata": {
    "scrolled": true
   },
   "outputs": [],
   "source": [
    "#问题：什么是类呢？简单来说（便于理解）： 类=属性+方法，目的是描述客观事物 \n",
    "# 举个例子：比如说我需要描述一个人，我会说他的长相，身材等等归结为有什么这就是属性，\n",
    "# 然后我可能会说他会做什么，有什么能力归结为他的行为这就是方法。"
   ]
  },
  {
   "cell_type": "markdown",
   "metadata": {},
   "source": [
    "1.1简单的开始，构建 Crush类"
   ]
  },
  {
   "cell_type": "code",
   "execution_count": 5,
   "metadata": {
    "scrolled": true
   },
   "outputs": [
    {
     "name": "stdout",
     "output_type": "stream",
     "text": [
      "yy的名字是：鱼鱼，年龄为：20\r\n",
      "鱼鱼 is eating...\r\n",
      "鱼鱼 is sleeping...\r\n",
      "鱼鱼是我的crush，xx是你的crush\r\n"
     ]
    }
   ],
   "source": [
    "class Crush:\n",
    "    #定义初始化方法 self代表类的实例对象(必不可少，且必须位于其他参数前面），name和age是属性\n",
    "    #简单理解：self 代表Crush类的实例对象，通过这个可以访问到Dog类中的属性和方法\n",
    "    def __init__(self, name,age):\n",
    "        '''初始化属性'''\n",
    "        self.name = name\n",
    "        self.age = age\n",
    "    def eat(self):\n",
    "        '''模拟吃东西'''\n",
    "        print(f'{self.name} is eating...')\n",
    "    def sleep(self):\n",
    "        '''模拟睡觉'''\n",
    "        print(f'{self.name} is sleeping...')\n",
    "#不要害怕，不了解也没关系，我们慢慢来\n",
    "#先创建一个Crush类的实例对象\n",
    "yy = Crush('鱼鱼',20)\n",
    "#属性和方法的访问 实例对象.属性名/方法名\n",
    "print(f'yy的名字是：{yy.name}，年龄为：{yy.age}')\n",
    "yy.eat()\n",
    "yy.sleep()\n",
    "your_crush = Crush('xx',18)\n",
    "print(f'{yy.name}是我的crush，{your_crush.name}是你的crush')"
   ]
  },
  {
   "cell_type": "markdown",
   "metadata": {},
   "source": [
    "1.2如何去使用类呢？"
   ]
  },
  {
   "cell_type": "code",
   "execution_count": 8,
   "metadata": {
    "scrolled": true
   },
   "outputs": [
    {
     "name": "stdout",
     "output_type": "stream",
     "text": [
      "价格：100000000，品牌：鱼鱼牌,颜色：五彩斑斓的黑\r\n",
      "我新买的车的信息是价格：100000000，品牌：鱼鱼牌,颜色：五彩斑斓的黑，出厂时的行驶里程为：0公里\r\n",
      "跑了10公里后，我的车现在是行驶里程为：10\r\n",
      "跑了100公里后，我的车现在是行驶里程为：110\r\n",
      "跑了200公里后，我的车现在行驶里程为：310\r\n",
      "又跑了200公里后，我的车现在是行驶里程为：310\r\n"
     ]
    }
   ],
   "source": [
    "#在1.1的基础上我们知道了如何构建一个类，现在我们尝试一下。\n",
    "#构建Car类，属性：价格，品牌，颜色 方法：显示车辆信息\n",
    "class Car:\n",
    "    def __init__(self,price,brand,color):\n",
    "        '''初始化属性'''\n",
    "        self.price = price\n",
    "        self.brand = brand\n",
    "        self.color = color\n",
    "        self.mileage = 0\n",
    "    def show_info(self):\n",
    "        '''格式化显示车辆信息'''\n",
    "        car_info = f'价格：{self.price}，品牌：{self.brand},颜色：{self.color}'\n",
    "        return car_info\n",
    "    def read_mileage(self):\n",
    "        '''读取行驶里程 '''\n",
    "        mileage=f'行驶里程为：{self.mileage}'\n",
    "        return mileage\n",
    "    def set_mileage(self,mileage):\n",
    "        '''设置行驶里程 '''\n",
    "        self.mileage = mileage\n",
    "    def update_mileage(self,add_mileage):\n",
    "        '''更新行驶里程 '''\n",
    "        self.mileage += add_mileage\n",
    "        print(f'跑了{add_mileage}公里后，我的车现在{self.read_mileage()}')\n",
    "    #显示油箱容量\n",
    "    def show_tank(self,tank_capacity):\n",
    "        print(f'油箱容量为{tank_capacity}')\n",
    "#实例化\n",
    "car = Car(100000000,'鱼鱼牌','五彩斑斓的黑')\n",
    "#调用方法\n",
    "print(car.show_info())\n",
    "#对于车而言，有些属性是一样的，如出厂时的行驶里程--给属性指定默认值\n",
    "print(f'我新买的车的信息是{car.show_info()}，出厂时的{car.read_mileage()}公里')\n",
    "#今天车跑了10公里\n",
    "car.mileage += 10#直接修改属性值\n",
    "print(f'跑了10公里后，我的车现在是{car.read_mileage()}')\n",
    "#又跑了100公里\n",
    "#通过方法修改属性值\n",
    "car.set_mileage(110)\n",
    "print(f'跑了100公里后，我的车现在是{car.read_mileage()}')\n",
    "#这样其实并不好，需要我们自己计算，我们希望直接传入行驶里程，然后自动计算\n",
    "#今天开心，又跑了200公里\n",
    "car.update_mileage(200)\n",
    "print(f'又跑了200公里后，我的车现在是{car.read_mileage()}')"
   ]
  },
  {
   "cell_type": "markdown",
   "metadata": {},
   "source": [
    "1.3继承（父类，子类）"
   ]
  },
  {
   "cell_type": "code",
   "execution_count": null,
   "metadata": {
    "scrolled": true
   },
   "outputs": [],
   "source": [
    "#子类继承父类 class 子类名(父类名):\n",
    "#问题：如何去模拟电动汽车呢？\n",
    "class ElectricCar(Car):\n",
    "    def __init__(self, price, brand, color, battery_size):\n",
    "        '''\n",
    "        初始化电动汽车的属性\n",
    "        调用父类构造器,先初始化父类属性，再初始化子类属性\n",
    "        '''\n",
    "        super().__init__(price, brand, color)\n",
    "        #子类特有的属性\n",
    "        self.battery_size = battery_size\n",
    "    #子类特有的方法\n",
    "    def describe_battery(self):\n",
    "        '''描述电池'''\n",
    "        print(f\"This electricCar has a {self.battery_size}-kWh battery.\")\n",
    "    #重写父类方法\n",
    "    def show_tank(self, tank_capacity):\n",
    "        print(\"电动汽车没有油箱！\")        \n"
   ]
  },
  {
   "cell_type": "code",
   "execution_count": 20,
   "metadata": {
    "scrolled": true
   },
   "outputs": [
    {
     "name": "stdout",
     "output_type": "stream",
     "text": [
      "我的车的电池容量为80-kWh battery.\r\n",
      "续航里程为80+公里\r\n"
     ]
    }
   ],
   "source": [
    "#将实例用作属性 简洁优雅\n",
    "class Battery:\n",
    "    def __init__(self,battery_capacity):\n",
    "        '''初始化电池容量 '''\n",
    "        self.battery_capacity = battery_capacity\n",
    "    def show_battery(self):\n",
    "        '''显示当前电池容量 '''\n",
    "        return self.battery_capacity\n",
    "class ElectricCar(Car):\n",
    "    def __init__ (self,battery_capacity,price,brand,color):\n",
    "        ''' 初始化电动汽车的属性继承自Car类的属性和电池容量属性 '''\n",
    "        super().__init__(price,brand,color)\n",
    "        self.battery = Battery(battery_capacity)\n",
    "    #根据当前电量，显示续航里程\n",
    "    def show_range(self):\n",
    "        if self.battery.show_battery() > 90:\n",
    "            print('续航里程为100+公里')\n",
    "        elif self.battery.show_battery() > 70:\n",
    "            print('续航里程为80+公里')\n",
    "        else:\n",
    "            print('续航里程为50+公里')\n",
    "e_car=ElectricCar(80,'20万','鱼鱼牌','五彩斑斓的黑')\n",
    "print(f\"我的车的电池容量为{e_car.battery.show_battery()}-kWh battery.\" )\n",
    "e_car.show_range()"
   ]
  },
  {
   "cell_type": "markdown",
   "metadata": {},
   "source": [
    "1.4导入类(从一个模块内导入类)"
   ]
  },
  {
   "cell_type": "code",
   "execution_count": 9,
   "metadata": {
    "execution": {
     "iopub.execute_input": "2025-01-24T03:35:48.219768Z",
     "iopub.status.busy": "2025-01-24T03:35:48.219393Z",
     "iopub.status.idle": "2025-01-24T03:35:48.234676Z",
     "shell.execute_reply": "2025-01-24T03:35:48.233925Z",
     "shell.execute_reply.started": "2025-01-24T03:35:48.219747Z"
    },
    "scrolled": true
   },
   "outputs": [
    {
     "name": "stdout",
     "output_type": "stream",
     "text": [
      "价格：20W，品牌：鱼鱼牌,颜色：black\r\n",
      "增加了100公里,当前行驶里程为100\r\n"
     ]
    }
   ],
   "source": [
    "#导入单个类\n",
    "from car import Car\n",
    "my_new_car = Car('20W','鱼鱼牌','black')\n",
    "print(my_new_car.show_info())\n",
    "my_new_car.update_mileage(100)"
   ]
  },
  {
   "cell_type": "code",
   "execution_count": 7,
   "metadata": {
    "scrolled": true
   },
   "outputs": [
    {
     "name": "stdout",
     "output_type": "stream",
     "text": [
      "价格：20万，品牌：鱼鱼牌,颜色：black\r\n",
      "价格：20万，品牌：鱼鱼牌,颜色：black\r\n",
      "100\r\n",
      "续航里程为100+公里\r\n"
     ]
    }
   ],
   "source": [
    "#导入多个类\n",
    "#导入car模块中的Car类和ElectricCar类，并给ElectricCar起一个别名eCar\n",
    "from car import Car,ElectricCar as eCar \n",
    "my_new_eCar = eCar(100,'20万', '鱼鱼牌','black')\n",
    "my_new_Car=Car('20万', '鱼鱼牌','black')\n",
    "print(my_new_eCar.show_info())\n",
    "print(my_new_Car.show_info())\n",
    "print(my_new_eCar.battery.battery_capacity)\n",
    "my_new_eCar.show_range()\n"
   ]
  },
  {
   "cell_type": "code",
   "execution_count": 8,
   "metadata": {
    "scrolled": true
   },
   "outputs": [
    {
     "name": "stdout",
     "output_type": "stream",
     "text": [
      "价格：20万，品牌：鱼鱼牌,颜色：black\r\n",
      "价格：20万，品牌：鱼鱼牌,颜色：black\r\n",
      "100\r\n",
      "续航里程为100+公里\r\n"
     ]
    }
   ],
   "source": [
    "#导入整个模块 模块号.类名\n",
    "import car\n",
    "my_new_car=car.Car('20W','yy','black')\n",
    "my_new_ecar=car.ElectricCar(100,'20W','yy','black')\n",
    "print(my_new_eCar.show_info())\n",
    "print(my_new_Car.show_info())\n",
    "print(my_new_eCar.battery.battery_capacity)\n",
    "my_new_eCar.show_range()"
   ]
  },
  {
   "cell_type": "markdown",
   "metadata": {},
   "source": [
    "能坚持到这里，已经很不错啦，相信你已经掌握了如何导入和使用模块。接下来，让我们一起看看python标准库（简单看看）"
   ]
  },
  {
   "cell_type": "markdown",
   "metadata": {},
   "source": [
    "1.4python标准库:一组python内置模块"
   ]
  },
  {
   "cell_type": "code",
   "execution_count": 28,
   "metadata": {
    "scrolled": true
   },
   "outputs": [
    {
     "name": "stdout",
     "output_type": "stream",
     "text": [
      "6\r\n",
      "0.18011515228347297\r\n",
      "糖醋排骨\r\n",
      "清炒虾仁\r\n",
      "['东坡肘子', '油闷大虾', '红烧狮子头']\r\n",
      "['糖醋排骨', '红烧狮子头']\r\n"
     ]
    }
   ],
   "source": [
    "#random module\n",
    "import random as rd\n",
    "#生成一个1到10的随机数\n",
    "print(rd.randint(1, 10))\n",
    "#生成一个0到1之间的随机数\n",
    "print(rd.random())\n",
    "yy_like_list = ['东坡肘子', '糖醋排骨', '油闷大虾', '红烧狮子头', '清炒虾仁', '清蒸鲈鱼','醋溜白菜']\n",
    "yy_like_tuple = ('东坡肘子', '糖醋排骨', '油闷大虾', '红烧狮子头', '清炒虾仁', '清蒸鲈鱼','醋溜白菜')\n",
    "#我需要随机选择一个鱼鱼喜欢吃的菜如何实现呢？\n",
    "print(rd.choice(yy_like_list))\n",
    "print(rd.choice(yy_like_tuple))\n",
    "#选择多个菜\n",
    "print(rd.sample(yy_like_list, 3)[:] )\n",
    "print(rd.sample(yy_like_tuple, 3)[:])"
   ]
  },
  {
   "cell_type": "markdown",
   "metadata": {},
   "source": [
    "2.文件和异常"
   ]
  },
  {
   "cell_type": "markdown",
   "metadata": {},
   "source": [
    "2.1读文件"
   ]
  },
  {
   "cell_type": "code",
   "execution_count": 5,
   "metadata": {
    "scrolled": true
   },
   "outputs": [
    {
     "name": "stdout",
     "output_type": "stream",
     "text": [
      "1314520\r\n",
      "1314520\r\n",
      "8888888\r\n",
      "9999999\r\n",
      "6666666\r\n"
     ]
    }
   ],
   "source": [
    "#读取文件\n",
    "#如何去读取一个文件呢？是不是需要一条指向文件的路径？\n",
    "from pathlib import Path\n",
    "path=Path(\"/home/aistudio/num.txt\")\n",
    "#读取文件内容,read_text()方法可以读取文件内容，读到文件末时会返回空字符串。\n",
    "contents=path.read_text()\n",
    "#去掉末尾的空白字符\n",
    "contents=contents.rstrip()\n",
    "print(contents)\n"
   ]
  },
  {
   "cell_type": "markdown",
   "metadata": {},
   "source": [
    "2.2相对文件路径VS绝对文件路径"
   ]
  },
  {
   "cell_type": "code",
   "execution_count": 7,
   "metadata": {
    "scrolled": true
   },
   "outputs": [
    {
     "name": "stdout",
     "output_type": "stream",
     "text": [
      "1314520\r\n",
      "1314520\r\n",
      "8888888\r\n",
      "9999999\r\n",
      "6666666\r\n",
      "1314520\r\n",
      "1314520\r\n",
      "8888888\r\n",
      "9999999\r\n",
      "6666666\r\n"
     ]
    }
   ],
   "source": [
    "from pathlib import Path\n",
    "#相对文件路径：是在当前工作目录下相对于当前文件的位置(简单理解就是和你的代码在同一个文件夹下)\n",
    "relatiive_path=Path('num.txt')\n",
    "numbers1=relatiive_path.read_text().rstrip()\n",
    "print(numbers1)\n",
    "#绝对文件路径：是从根目录开始的完整路径\n",
    "absolut_path=Path('/home/aistudio/num.txt')\n",
    "numbers2=relatiive_path.read_text().rstrip()\n",
    "print(numbers2)"
   ]
  },
  {
   "cell_type": "markdown",
   "metadata": {},
   "source": [
    "2.3文件访问"
   ]
  },
  {
   "cell_type": "code",
   "execution_count": 10,
   "metadata": {
    "scrolled": true
   },
   "outputs": [
    {
     "name": "stdout",
     "output_type": "stream",
     "text": [
      "<class 'list'>\r\n",
      "['1314520', '1314520', '8888888', '9999999', '6666666']\r\n",
      "1314520\r\n",
      "1314520\r\n",
      "8888888\r\n",
      "9999999\r\n",
      "6666666\r\n"
     ]
    }
   ],
   "source": [
    "#逐行访问\n",
    "from pathlib import Path\n",
    "path=Path('num.txt')\n",
    "numbers=path.read_text().splitlines()#逐行读取,返回一个列表\n",
    "print(type(numbers))\n",
    "print(numbers)\n",
    "for num in numbers:\n",
    "    print(num)"
   ]
  },
  {
   "cell_type": "markdown",
   "metadata": {},
   "source": [
    "2.4文件内容使用示例"
   ]
  },
  {
   "cell_type": "code",
   "execution_count": 15,
   "metadata": {
    "scrolled": true
   },
   "outputs": [
    {
     "name": "stdout",
     "output_type": "stream",
     "text": [
      "<class 'str'>\r\n",
      "1314520\r\n",
      "1314520\r\n",
      "8888888\r\n",
      "9999999\r\n",
      "6666666\r\n",
      "<class 'list'>\r\n",
      "<class 'str'>\r\n",
      "13145201314520888888899999996666666\r\n"
     ]
    }
   ],
   "source": [
    "from pathlib import Path\n",
    "path = Path('/home/aistudio/num.txt') #路径对象\n",
    "numbers=path.read_text() #读取文本\n",
    "print(type(numbers))\n",
    "print(numbers)\n",
    "#问题如何合成一行输出？\n",
    "numbers_line_split=numbers.splitlines()\n",
    "print(type(numbers_line_split))\n",
    "str_numbers=\"\"\n",
    "for num in numbers_line_split:\n",
    "    str_numbers+=num\n",
    "print(type(str_numbers))\n",
    "print(str_numbers)"
   ]
  },
  {
   "cell_type": "markdown",
   "metadata": {},
   "source": [
    "2.5写文件"
   ]
  },
  {
   "cell_type": "code",
   "execution_count": 29,
   "metadata": {
    "scrolled": true
   },
   "outputs": [
    {
     "name": "stdout",
     "output_type": "stream",
     "text": [
      "我喜欢你\r\n",
      "4\r\n",
      "我喜欢你,鱼鱼\r\n"
     ]
    }
   ],
   "source": [
    "#写文件\n",
    "from pathlib import Path\n",
    "path=Path('告白.txt')\n",
    "#写入文本,如果文件不存在,则会创建,如果文件存在,则会覆写\n",
    "#write_text()方法返回写入文件的字节数\n",
    "txt_num=path.write_text('我喜欢你')\n",
    "print(path.read_text())\n",
    "print(txt_num)\n",
    "#追加文本\n",
    "with path.open('a',encoding='utf-8') as f:\n",
    "    f.write(',鱼鱼')\n",
    "print(path.read_text())"
   ]
  },
  {
   "cell_type": "code",
   "execution_count": 31,
   "metadata": {
    "scrolled": true
   },
   "outputs": [
    {
     "name": "stdout",
     "output_type": "stream",
     "text": [
      "我\r\n",
      "爱\r\n",
      "你\r\n",
      "\r\n"
     ]
    }
   ],
   "source": [
    "#写入多行\n",
    "from pathlib import Path\n",
    "path=Path('告白1.txt')\n",
    "msg='我\\n'\n",
    "msg+='爱\\n'\n",
    "msg+='你\\n'\n",
    "path.write_text(msg)\n",
    "print(path.read_text())\n"
   ]
  },
  {
   "cell_type": "markdown",
   "metadata": {},
   "source": [
    "3.异常：是一种特殊对象用来处理程序错误"
   ]
  },
  {
   "cell_type": "code",
   "execution_count": 32,
   "metadata": {
    "scrolled": true
   },
   "outputs": [
    {
     "name": "stdout",
     "output_type": "stream",
     "text": [
      "Cannot divide by zero!\r\n"
     ]
    }
   ],
   "source": [
    "#try-except代码块\n",
    "try:\n",
    "    # 这里放可能会产生异常的代码\n",
    "    print(10/0)\n",
    "except ZeroDivisionError:#匹配异常类型\n",
    "    # 这里放异常处理代码\n",
    "    print(\"Cannot divide by zero!\")"
   ]
  },
  {
   "cell_type": "code",
   "execution_count": 33,
   "metadata": {
    "scrolled": true
   },
   "outputs": [
    {
     "name": "stdout",
     "output_type": "stream",
     "text": [
      "除数不能为0\r\n",
      "程序结束\r\n"
     ]
    }
   ],
   "source": [
    "#else 代码块\n",
    "#让我们一起实现一个简单的除法程序\n",
    "while True:\n",
    "    first_num=int(input(\"请输入被除数：\"))\n",
    "    second_num=int(input(\"请输入除数：\"))\n",
    "    try:\n",
    "        answer=first_num/second_num\n",
    "    except ZeroDivisionError:\n",
    "        print(\"除数不能为0\")\n",
    "    else:\n",
    "        print(f\"{first_num}除以{second_num}等于{answer}\")\n",
    "    FLAG=input(\"是否继续？(y/n)\")\n",
    "    if FLAG==\"n\":\n",
    "        print(\"程序结束\")\n",
    "        break\n",
    "        "
   ]
  },
  {
   "cell_type": "markdown",
   "metadata": {},
   "source": [
    "4.数据存储（JSON格式）json.dumps(data)和json.loads(data)(好处：通用性更强，便于跨语言传输和存储)"
   ]
  },
  {
   "cell_type": "code",
   "execution_count": 39,
   "metadata": {
    "scrolled": true
   },
   "outputs": [
    {
     "name": "stdout",
     "output_type": "stream",
     "text": [
      "<class 'list'>\r\n",
      "<class 'str'>\r\n",
      "[1, 2, 3, 4, 5, 6, 7, 8, 9, 10, 11, 12, 13, 14, 15, 16, 17, 18, 19, 20]\r\n",
      "<class 'str'>\r\n",
      "[1, 2, 3, 4, 5, 6, 7, 8, 9, 10, 11, 12, 13, 14, 15, 16, 17, 18, 19, 20]\r\n"
     ]
    }
   ],
   "source": [
    "from pathlib import Path\n",
    "import json\n",
    "numbers=list(range(1,21))\n",
    "print(type(numbers))  \n",
    "path=Path('numbers.json')\n",
    "data_numbers=json.dumps(numbers)\n",
    "print(type(data_numbers))\n",
    "print(data_numbers)\n",
    "#写入文件\n",
    "path.write_text(data_numbers)\n",
    "#读取文件\n",
    "data=path.read_text()\n",
    "data_numbers1=json.loads(data)\n",
    "print(type(data_numbers1))\n",
    "print(data_numbers1)"
   ]
  },
  {
   "cell_type": "code",
   "execution_count": 3,
   "metadata": {
    "scrolled": true
   },
   "outputs": [
    {
     "name": "stdout",
     "output_type": "stream",
     "text": [
      "欢迎回来，鱼鱼!\r\n"
     ]
    }
   ],
   "source": [
    "#很不错啦，让我们用数据存储来实现一个很简单的游戏登陆问候程序吧。\n",
    "from pathlib import Path\n",
    "import json\n",
    "path = Path(\"user.txt\")\n",
    "# 判断用户是否存在\n",
    "if path.exists():\n",
    "    data=path.read_text()\n",
    "    user=json.loads(data)\n",
    "    print(f\"欢迎回来，{user['name']}!\")\n",
    "else:\n",
    "    username_data=input(\"欢迎来到新纪元，冒险者我该如何称呼你呢？\")\n",
    "    user=json.dumps({\"name\":username_data})\n",
    "    path.write_text(user)\n",
    "    "
   ]
  },
  {
   "cell_type": "markdown",
   "metadata": {},
   "source": [
    "5.重构：简单来说是把一个功能完备的整体划分为各个独立的模块，每个模块完成一个特定的功能。"
   ]
  },
  {
   "cell_type": "code",
   "execution_count": 5,
   "metadata": {
    "scrolled": true
   },
   "outputs": [
    {
     "name": "stdout",
     "output_type": "stream",
     "text": [
      "欢迎回来，鱼鱼!\r\n"
     ]
    }
   ],
   "source": [
    "#重构上述的游戏登陆问候程序\n",
    "from pathlib import Path\n",
    "import json\n",
    "\n",
    "def read_user_name(path):\n",
    "    \"\"\"尝试从文件中读取用户姓名\"\"\"\n",
    "    if path.exists():\n",
    "        data = path.read_text()\n",
    "        user_name = json.loads(data)['name']\n",
    "        return user_name\n",
    "    else:\n",
    "        return None\n",
    "\n",
    "def get_user_name(path):\n",
    "    \"\"\"获取新用户的姓名并保存到文件中\"\"\"\n",
    "    user_name = input(\"欢迎来到新纪元，冒险者，我该如何称呼你呢？\")\n",
    "    user_name_data = json.dumps({\"name\": user_name})\n",
    "    path.write_text(user_name_data)\n",
    "    return user_name\n",
    "\n",
    "def main():\n",
    "    \"\"\"主程序逻辑\"\"\"\n",
    "    path = Path(\"user.json\")\n",
    "    user_name = read_user_name(path)\n",
    "    if user_name:\n",
    "        print(f\"欢迎回来，{user_name}!\")\n",
    "    else:\n",
    "        user_name = get_user_name(path)\n",
    "        print(f\"很高兴见到你，冒险者：{user_name}!\")\n",
    "\n",
    "if __name__ == \"__main__\":\n",
    "    main()"
   ]
  },
  {
   "cell_type": "markdown",
   "metadata": {},
   "source": [
    "6.测试(使用pytest)"
   ]
  },
  {
   "cell_type": "code",
   "execution_count": null,
   "metadata": {
    "scrolled": true
   },
   "outputs": [],
   "source": [
    "#安装pytest\n",
    "#在终端输入 py -m pip install --user pytest"
   ]
  },
  {
   "attachments": {},
   "cell_type": "markdown",
   "metadata": {},
   "source": [
    "6.1针对函数的测试"
   ]
  },
  {
   "cell_type": "code",
   "execution_count": null,
   "metadata": {},
   "outputs": [],
   "source": [
    "  #编写测试函数如test_name_function.py所示，再运行pytest test_name_function.py"
   ]
  },
  {
   "attachments": {},
   "cell_type": "markdown",
   "metadata": {},
   "source": [
    "6.2针对类的测试"
   ]
  },
  {
   "cell_type": "code",
   "execution_count": null,
   "metadata": {},
   "outputs": [],
   "source": [
    "#断言-->任意的条件语句 assert 条件表达式   \n",
    "#编写一个用于测试的类如:survey.py所示\n",
    "#编写测试代码test_survey.py\n",
    "#夹具的应用@pytest.fixture 如test_survey_new.py"
   ]
  }
 ],
 "metadata": {
  "kernelspec": {
   "display_name": "Python 3",
   "language": "python",
   "name": "py35-paddle1.2.0"
  },
  "language_info": {
   "codemirror_mode": {
    "name": "ipython",
    "version": 3
   },
   "file_extension": ".py",
   "mimetype": "text/x-python",
   "name": "python",
   "nbconvert_exporter": "python",
   "pygments_lexer": "ipython3",
   "version": "3.10.10"
  },
  "vscode": {
   "interpreter": {
    "hash": "09f0dbf7b1569c1ab842ae2f41770fe6aa1b54326d081112fa5944b99abb5899"
   }
  }
 },
 "nbformat": 4,
 "nbformat_minor": 4
}
